{
  "nbformat": 4,
  "nbformat_minor": 0,
  "metadata": {
    "colab": {
      "name": "INbreast_xml_parser.ipynb",
      "provenance": [],
      "collapsed_sections": [],
      "machine_shape": "hm"
    },
    "kernelspec": {
      "name": "python3",
      "display_name": "Python 3"
    },
    "language_info": {
      "name": "python"
    }
  },
  "cells": [
    {
      "cell_type": "code",
      "execution_count": null,
      "metadata": {
        "colab": {
          "base_uri": "https://localhost:8080/"
        },
        "id": "g7kLIPcPXDis",
        "outputId": "0adfce08-6a98-48d8-b67a-3041c6243190"
      },
      "outputs": [
        {
          "output_type": "stream",
          "name": "stdout",
          "text": [
            "Requirement already satisfied: pydicom in /usr/local/lib/python3.7/dist-packages (2.3.0)\n"
          ]
        }
      ],
      "source": [
        "!pip install pydicom\n",
        "\n",
        "import os\n",
        "import cv2\n",
        "import math\n",
        "import numpy as np\n",
        "import pydicom as pdcm\n",
        "from skimage.draw import polygon\n",
        "import xml.etree.ElementTree as ET\n",
        "from matplotlib import pyplot as plt"
      ]
    },
    {
      "cell_type": "code",
      "source": [
        "XML_PATH = \"path to XML folder\"\n",
        "DCM_PATH = \"path to DICOM folder\"\n",
        "img_name = \"22670809\""
      ],
      "metadata": {
        "id": "hJDCWaJCaAGY"
      },
      "execution_count": null,
      "outputs": []
    },
    {
      "cell_type": "code",
      "source": [
        "class Annotation:\n",
        "  \n",
        "  def __init__(self, xml_path, filename, shape):\n",
        "\n",
        "    self.xml_path = xml_path + filename + '.xml'\n",
        "    self.mask     = self.create_mask_array(shape)\n",
        "    self.fill_mask()\n",
        "\n",
        "\n",
        "  \"\"\"\n",
        "  This function creates the proper contour/polygon for each ROI and stores\n",
        "  the information in the corresponding position of the mask object\n",
        "  \"\"\"\n",
        "  def fill_mask(self):\n",
        "    if os.path.exists(self.xml_path):\n",
        "      rois, num_rois   = self.parse_XML(self.xml_path)\n",
        "\n",
        "      for roi in rois:\n",
        "        roi_info       = self.get_roi_info(roi)\n",
        "        r_poly, c_poly = self.create_polygon_lists(self.mask, roi_info[\"points\"])\n",
        "        rr, cc         = polygon(r_poly, c_poly)\n",
        "        roi_channel    = self.select_mask_channel(roi_info[\"roi_type\"])\n",
        "        try:\n",
        "          self.mask[rr, cc, roi_channel] = 1\n",
        "        except IndexError:\n",
        "          print(self.xml_path)\n",
        "\n",
        "\n",
        "  \"\"\"\n",
        "  Inputs:\n",
        "    -- xml_path: Path to the corresponding xml file\n",
        "  Outputs:\n",
        "    -- rois: Array with the ROI objects\n",
        "    -- num_of_rois: Number of ROIs \n",
        "  \"\"\"\n",
        "  def parse_XML(self, xml_path):\n",
        "    tree        = ET.parse(xml_path)\n",
        "    root        = tree.getroot()       # The root of the XML file\n",
        "    data        = root[0][1]           # The essential info\n",
        "    rois        = data[0][5]           # Array containing the ROI objects\n",
        "    num_of_rois = int(data[0][3].text) # Number of ROI objects\n",
        "\n",
        "    return rois, num_of_rois\n",
        "\n",
        "\n",
        "  \"\"\"\n",
        "  Inputs:\n",
        "    -- img_shape: The preferred shape of the mask to be created\n",
        "  Outputs:\n",
        "    -- 3-dimensional numpy array of type uint8 \n",
        "  \"\"\"\n",
        "  def create_mask_array(self,img_shape):\n",
        "    return np.zeros((img_shape[0], img_shape[1], 3), dtype = np.uint8)\n",
        "\n",
        "  def get_roi_info(self, roi):\n",
        "    roi_info      = {\n",
        "      \"points\":        roi[21],           # Array containing the points of a ROI\n",
        "      \"num_of_points\": int(roi[17].text), # Number of points of the area\n",
        "      \"roi_index\":     int(roi[7].text),  # Identifier of the ROI\n",
        "      \"roi_type\":      roi[15].text       # (Mass, Calcification, other)\n",
        "    }\n",
        "\n",
        "    return roi_info\n",
        "\n",
        "\n",
        "\n",
        "  \"\"\"\n",
        "  Inputs:\n",
        "    -- mask: numpy object of the mask\n",
        "    -- points: x-y coordinates of a ROI's points\n",
        "  Outputs:\n",
        "    -- r_poly: array containing the x-axis coordinates\n",
        "    -- c_poly: array containing the y-axis coordinates\n",
        "  \"\"\"\n",
        "  def create_polygon_lists(self, mask, points):\n",
        "    mask_width  = mask.shape[0]\n",
        "    mask_height = mask.shape[1]\n",
        "    r_poly      = np.array([])\n",
        "    c_poly      = np.array([])\n",
        "    roi_img     = np.zeros((mask_width, mask_height), dtype=np.uint8)\n",
        "\n",
        "    for point in points:\n",
        "\n",
        "      temp_tuple = point.text[1:-1].split(\",\")\n",
        "      y          = int(math.trunc(float(temp_tuple[0]))) \n",
        "      x          = int(math.trunc(float(temp_tuple[1])))\n",
        "      r_poly     = np.append(r_poly, x)\n",
        "      c_poly     = np.append(c_poly, y)\n",
        "\n",
        "    return r_poly, c_poly\n",
        "\n",
        "\n",
        "  \"\"\"\n",
        "  Input:\n",
        "    -- roi_type: The type of a specific ROI, extracted from the XML file\n",
        "  Output:\n",
        "    -- roi_channel: The type of the ROI defines the integer value of this var\n",
        "  \"\"\"\n",
        "  def select_mask_channel(self, roi_type):\n",
        "    roi_ch = 2\n",
        "    if roi_type == \"Mass\":\n",
        "      roi_ch = 0\n",
        "    elif roi_type == \"Calcification\":\n",
        "      roi_ch = 1\n",
        "    return roi_ch\n"
      ],
      "metadata": {
        "id": "KA7gzf9dbfC4"
      },
      "execution_count": null,
      "outputs": []
    },
    {
      "cell_type": "code",
      "source": [
        "dcm = pdcm.dcmread(DCM_PATH + img_name + '.dcm')\n",
        "img = dcm.pixel_array\n",
        "print(img.shape)\n",
        "a   = Annotation(XML_PATH, img_name, img.shape)"
      ],
      "metadata": {
        "colab": {
          "base_uri": "https://localhost:8080/"
        },
        "id": "ClyayzzymHOd",
        "outputId": "3fa61390-fc8d-44d3-f49d-31019700643d"
      },
      "execution_count": null,
      "outputs": [
        {
          "output_type": "stream",
          "name": "stdout",
          "text": [
            "(4084, 3328)\n"
          ]
        }
      ]
    },
    {
      "cell_type": "code",
      "source": [
        "fig, (ax1, ax2, ax3, ax4) = plt.subplots(1, 4)\n",
        "fig.set_figheight(6)\n",
        "fig.set_figwidth(20)\n",
        "fig.suptitle('Horizontally stacked subplots')\n",
        "\n",
        "ax1.imshow(img, cmap='gray')\n",
        "ax2.imshow(a.mask[:,:,0], cmap='gray', alpha=0.5)\n",
        "ax3.imshow(a.mask[:,:,1], cmap='gray', alpha=0.5)\n",
        "ax4.imshow(a.mask[:,:,2], cmap='gray', alpha=0.5)"
      ],
      "metadata": {
        "colab": {
          "base_uri": "https://localhost:8080/",
          "height": 420
        },
        "id": "fk2YOlJ1pWWP",
        "outputId": "db28d29e-6e9d-4084-99ac-d32da21517a5"
      },
      "execution_count": null,
      "outputs": [
        {
          "output_type": "execute_result",
          "data": {
            "text/plain": [
              "<matplotlib.image.AxesImage at 0x7fe75c7c2cd0>"
            ]
          },
          "metadata": {},
          "execution_count": 82
        },
        {
          "output_type": "display_data",
          "data": {
            "text/plain": [
              "<Figure size 1440x432 with 4 Axes>"
            ],
            "image/png": "[encoded data removed]"
          },
          "metadata": {
            "needs_background": "light"
          }
        }
      ]
    }
  ]
}